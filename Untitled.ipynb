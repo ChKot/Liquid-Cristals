{
 "cells": [
  {
   "cell_type": "code",
   "execution_count": 76,
   "id": "9a84cd16",
   "metadata": {},
   "outputs": [],
   "source": [
    "import pandas as pd      #импортируем библиотеку\n",
    "import matplotlib.pyplot as plt"
   ]
  },
  {
   "cell_type": "code",
   "execution_count": 77,
   "id": "3fefcbca",
   "metadata": {
    "scrolled": true
   },
   "outputs": [
    {
     "data": {
      "text/html": [
       "<div>\n",
       "<style scoped>\n",
       "    .dataframe tbody tr th:only-of-type {\n",
       "        vertical-align: middle;\n",
       "    }\n",
       "\n",
       "    .dataframe tbody tr th {\n",
       "        vertical-align: top;\n",
       "    }\n",
       "\n",
       "    .dataframe thead th {\n",
       "        text-align: right;\n",
       "    }\n",
       "</style>\n",
       "<table border=\"1\" class=\"dataframe\">\n",
       "  <thead>\n",
       "    <tr style=\"text-align: right;\">\n",
       "      <th></th>\n",
       "      <th>Unnamed: 0</th>\n",
       "      <th>DR Number</th>\n",
       "      <th>Date Reported</th>\n",
       "      <th>Date Occurred</th>\n",
       "      <th>Time Occurred</th>\n",
       "      <th>Area ID</th>\n",
       "      <th>Area Name</th>\n",
       "      <th>Reporting District</th>\n",
       "      <th>Crime Code</th>\n",
       "      <th>Crime Code Description</th>\n",
       "      <th>...</th>\n",
       "      <th>Weapon Description</th>\n",
       "      <th>Status Code</th>\n",
       "      <th>Status Description</th>\n",
       "      <th>Crime Code 1</th>\n",
       "      <th>Crime Code 2</th>\n",
       "      <th>Crime Code 3</th>\n",
       "      <th>Crime Code 4</th>\n",
       "      <th>Address</th>\n",
       "      <th>Cross Street</th>\n",
       "      <th>Location</th>\n",
       "    </tr>\n",
       "  </thead>\n",
       "  <tbody>\n",
       "    <tr>\n",
       "      <th>0</th>\n",
       "      <td>246798</td>\n",
       "      <td>100509940</td>\n",
       "      <td>2010-04-25</td>\n",
       "      <td>2010-04-25</td>\n",
       "      <td>1630</td>\n",
       "      <td>5</td>\n",
       "      <td>Harbor</td>\n",
       "      <td>529</td>\n",
       "      <td>740</td>\n",
       "      <td>VANDALISM - FELONY ($400 &amp; OVER, ALL CHURCH VA...</td>\n",
       "      <td>...</td>\n",
       "      <td>UNKNOWN WEAPON/OTHER WEAPON</td>\n",
       "      <td>IC</td>\n",
       "      <td>Invest Cont</td>\n",
       "      <td>740.0</td>\n",
       "      <td>NaN</td>\n",
       "      <td>NaN</td>\n",
       "      <td>NaN</td>\n",
       "      <td>CAL YACHT</td>\n",
       "      <td>MARINA SLIP D17</td>\n",
       "      <td>(33.7753, -118.2456)</td>\n",
       "    </tr>\n",
       "    <tr>\n",
       "      <th>1</th>\n",
       "      <td>1179557</td>\n",
       "      <td>151917155</td>\n",
       "      <td>2015-08-27</td>\n",
       "      <td>2015-08-27</td>\n",
       "      <td>430</td>\n",
       "      <td>19</td>\n",
       "      <td>Mission</td>\n",
       "      <td>1917</td>\n",
       "      <td>626</td>\n",
       "      <td>INTIMATE PARTNER - SIMPLE ASSAULT</td>\n",
       "      <td>...</td>\n",
       "      <td>STRONG-ARM (HANDS, FIST, FEET OR BODILY FORCE)</td>\n",
       "      <td>AO</td>\n",
       "      <td>Adult Other</td>\n",
       "      <td>626.0</td>\n",
       "      <td>NaN</td>\n",
       "      <td>NaN</td>\n",
       "      <td>NaN</td>\n",
       "      <td>14000    ASTORIA                      ST</td>\n",
       "      <td>NaN</td>\n",
       "      <td>(34.312, -118.4383)</td>\n",
       "    </tr>\n",
       "    <tr>\n",
       "      <th>2</th>\n",
       "      <td>1527668</td>\n",
       "      <td>172008833</td>\n",
       "      <td>2017-04-04</td>\n",
       "      <td>2017-04-03</td>\n",
       "      <td>1000</td>\n",
       "      <td>20</td>\n",
       "      <td>Olympic</td>\n",
       "      <td>2021</td>\n",
       "      <td>310</td>\n",
       "      <td>BURGLARY</td>\n",
       "      <td>...</td>\n",
       "      <td>NaN</td>\n",
       "      <td>IC</td>\n",
       "      <td>Invest Cont</td>\n",
       "      <td>310.0</td>\n",
       "      <td>NaN</td>\n",
       "      <td>NaN</td>\n",
       "      <td>NaN</td>\n",
       "      <td>500    LORRAINE                     BL</td>\n",
       "      <td>NaN</td>\n",
       "      <td>(34.0653, -118.32)</td>\n",
       "    </tr>\n",
       "  </tbody>\n",
       "</table>\n",
       "<p>3 rows × 27 columns</p>\n",
       "</div>"
      ],
      "text/plain": [
       "   Unnamed: 0  DR Number Date Reported Date Occurred  Time Occurred  Area ID  \\\n",
       "0      246798  100509940    2010-04-25    2010-04-25           1630        5   \n",
       "1     1179557  151917155    2015-08-27    2015-08-27            430       19   \n",
       "2     1527668  172008833    2017-04-04    2017-04-03           1000       20   \n",
       "\n",
       "  Area Name  Reporting District  Crime Code  \\\n",
       "0    Harbor                 529         740   \n",
       "1   Mission                1917         626   \n",
       "2   Olympic                2021         310   \n",
       "\n",
       "                              Crime Code Description  ...  \\\n",
       "0  VANDALISM - FELONY ($400 & OVER, ALL CHURCH VA...  ...   \n",
       "1                  INTIMATE PARTNER - SIMPLE ASSAULT  ...   \n",
       "2                                           BURGLARY  ...   \n",
       "\n",
       "                               Weapon Description  Status Code  \\\n",
       "0                     UNKNOWN WEAPON/OTHER WEAPON           IC   \n",
       "1  STRONG-ARM (HANDS, FIST, FEET OR BODILY FORCE)           AO   \n",
       "2                                             NaN           IC   \n",
       "\n",
       "  Status Description Crime Code 1  Crime Code 2 Crime Code 3  Crime Code 4  \\\n",
       "0        Invest Cont        740.0           NaN          NaN           NaN   \n",
       "1        Adult Other        626.0           NaN          NaN           NaN   \n",
       "2        Invest Cont        310.0           NaN          NaN           NaN   \n",
       "\n",
       "                                    Address     Cross Street  \\\n",
       "0                                 CAL YACHT  MARINA SLIP D17   \n",
       "1  14000    ASTORIA                      ST              NaN   \n",
       "2    500    LORRAINE                     BL              NaN   \n",
       "\n",
       "              Location   \n",
       "0  (33.7753, -118.2456)  \n",
       "1   (34.312, -118.4383)  \n",
       "2    (34.0653, -118.32)  \n",
       "\n",
       "[3 rows x 27 columns]"
      ]
     },
     "execution_count": 77,
     "metadata": {},
     "output_type": "execute_result"
    }
   ],
   "source": [
    "crimes_database = pd.read_csv('la-crimes-sample1.csv')        #считываем файл\n",
    "crimes_database.head(3)                                       #смотрим табличку"
   ]
  },
  {
   "cell_type": "code",
   "execution_count": 78,
   "id": "bcf3f0d3",
   "metadata": {},
   "outputs": [
    {
     "data": {
      "text/plain": [
       "Index(['Unnamed: 0', 'DR Number', 'Date Reported', 'Date Occurred',\n",
       "       'Time Occurred', 'Area ID', 'Area Name', 'Reporting District',\n",
       "       'Crime Code', 'Crime Code Description', 'MO Codes', 'Victim Age',\n",
       "       'Victim Sex', 'Victim Descent', 'Premise Code', 'Premise Description',\n",
       "       'Weapon Used Code', 'Weapon Description', 'Status Code',\n",
       "       'Status Description', 'Crime Code 1', 'Crime Code 2', 'Crime Code 3',\n",
       "       'Crime Code 4', 'Address', 'Cross Street', 'Location '],\n",
       "      dtype='object')"
      ]
     },
     "execution_count": 78,
     "metadata": {},
     "output_type": "execute_result"
    }
   ],
   "source": [
    "crimes_database.columns                                       #выведем названия столбцов"
   ]
  },
  {
   "cell_type": "code",
   "execution_count": 79,
   "id": "2f9df9b5",
   "metadata": {},
   "outputs": [
    {
     "data": {
      "text/plain": [
       "(39608, 27)"
      ]
     },
     "execution_count": 79,
     "metadata": {},
     "output_type": "execute_result"
    }
   ],
   "source": [
    "crimes_database.shape                                       #размеры таблицы 39608 строк и 27 колонок"
   ]
  },
  {
   "cell_type": "code",
   "execution_count": 80,
   "id": "f7d5f769",
   "metadata": {},
   "outputs": [
    {
     "data": {
      "text/plain": [
       "Unnamed: 0                  int64\n",
       "DR Number                   int64\n",
       "Date Reported              object\n",
       "Date Occurred              object\n",
       "Time Occurred               int64\n",
       "Area ID                     int64\n",
       "Area Name                  object\n",
       "Reporting District          int64\n",
       "Crime Code                  int64\n",
       "Crime Code Description     object\n",
       "MO Codes                   object\n",
       "Victim Age                float64\n",
       "Victim Sex                 object\n",
       "Victim Descent             object\n",
       "Premise Code              float64\n",
       "Premise Description        object\n",
       "Weapon Used Code          float64\n",
       "Weapon Description         object\n",
       "Status Code                object\n",
       "Status Description         object\n",
       "Crime Code 1              float64\n",
       "Crime Code 2              float64\n",
       "Crime Code 3              float64\n",
       "Crime Code 4              float64\n",
       "Address                    object\n",
       "Cross Street               object\n",
       "Location                   object\n",
       "dtype: object"
      ]
     },
     "execution_count": 80,
     "metadata": {},
     "output_type": "execute_result"
    }
   ],
   "source": [
    "crimes_database.dtypes                                       #типы данных в колонках"
   ]
  },
  {
   "cell_type": "code",
   "execution_count": 81,
   "id": "63ec5cfa",
   "metadata": {},
   "outputs": [
    {
     "data": {
      "text/plain": [
       "Unnamed: 0                39608\n",
       "DR Number                 39608\n",
       "Date Reported              2809\n",
       "Date Occurred              2808\n",
       "Time Occurred               900\n",
       "Area ID                      21\n",
       "Area Name                    21\n",
       "Reporting District         1135\n",
       "Crime Code                  115\n",
       "Crime Code Description      113\n",
       "MO Codes                  14019\n",
       "Victim Age                   90\n",
       "Victim Sex                    4\n",
       "Victim Descent               17\n",
       "Premise Code                189\n",
       "Premise Description         170\n",
       "Weapon Used Code             65\n",
       "Weapon Description           65\n",
       "Status Code                   6\n",
       "Status Description            6\n",
       "Crime Code 1                116\n",
       "Crime Code 2                 67\n",
       "Crime Code 3                  9\n",
       "Crime Code 4                  2\n",
       "Address                   19762\n",
       "Cross Street               2064\n",
       "Location                  19048\n",
       "dtype: int64"
      ]
     },
     "execution_count": 81,
     "metadata": {},
     "output_type": "execute_result"
    }
   ],
   "source": [
    "crimes_database.nunique(axis=0, dropna=True)                      #сколько уникальных значений в каждом столбце. dropna=True - игнорирование пустых ячеек"
   ]
  },
  {
   "cell_type": "markdown",
   "id": "617b47a5-e9f4-43dd-bc21-d99456df2f2b",
   "metadata": {},
   "source": [
    "Код ниже нужен для поиска пропущенных клеток. Функция .insull проверяет все клетки на пустоту. Если клетка пуста, то значение клетки заменяется на True. Если в клетке есть информация, то ее содержимое станет False\n",
    "После преобразования подсчитаем во всех колонках по отдельности значения True и False и выведем данные для каждого столбца. Число после True означает количество пустых ячеек"
   ]
  },
  {
   "cell_type": "code",
   "execution_count": 82,
   "id": "ffb4c1fc",
   "metadata": {},
   "outputs": [
    {
     "name": "stdout",
     "output_type": "stream",
     "text": [
      "False    39608\n",
      "Name: Unnamed: 0, dtype: int64\n",
      " \n",
      "False    39608\n",
      "Name: DR Number, dtype: int64\n",
      " \n",
      "False    39608\n",
      "Name: Date Reported, dtype: int64\n",
      " \n",
      "False    39608\n",
      "Name: Date Occurred, dtype: int64\n",
      " \n",
      "False    39608\n",
      "Name: Time Occurred, dtype: int64\n",
      " \n",
      "False    39608\n",
      "Name: Area ID, dtype: int64\n",
      " \n",
      "False    39608\n",
      "Name: Area Name, dtype: int64\n",
      " \n",
      "False    39608\n",
      "Name: Reporting District, dtype: int64\n",
      " \n",
      "False    39608\n",
      "Name: Crime Code, dtype: int64\n",
      " \n",
      "False    39601\n",
      "True         7\n",
      "Name: Crime Code Description, dtype: int64\n",
      " \n",
      "False    35317\n",
      "True      4291\n",
      "Name: MO Codes, dtype: int64\n",
      " \n",
      "False    36388\n",
      "True      3220\n",
      "Name: Victim Age, dtype: int64\n",
      " \n",
      "False    35977\n",
      "True      3631\n",
      "Name: Victim Sex, dtype: int64\n",
      " \n",
      "False    35976\n",
      "True      3632\n",
      "Name: Victim Descent, dtype: int64\n",
      " \n",
      "False    39605\n",
      "True         3\n",
      "Name: Premise Code, dtype: int64\n",
      " \n",
      "False    39536\n",
      "True        72\n",
      "Name: Premise Description, dtype: int64\n",
      " \n",
      "True     26530\n",
      "False    13078\n",
      "Name: Weapon Used Code, dtype: int64\n",
      " \n",
      "True     26530\n",
      "False    13078\n",
      "Name: Weapon Description, dtype: int64\n",
      " \n",
      "False    39608\n",
      "Name: Status Code, dtype: int64\n",
      " \n",
      "False    39608\n",
      "Name: Status Description, dtype: int64\n",
      " \n",
      "False    39608\n",
      "Name: Crime Code 1, dtype: int64\n",
      " \n",
      "True     37125\n",
      "False     2483\n",
      "Name: Crime Code 2, dtype: int64\n",
      " \n",
      "True     39558\n",
      "False       50\n",
      "Name: Crime Code 3, dtype: int64\n",
      " \n",
      "True     39606\n",
      "False        2\n",
      "Name: Crime Code 4, dtype: int64\n",
      " \n",
      "False    39608\n",
      "Name: Address, dtype: int64\n",
      " \n",
      "True     32978\n",
      "False     6630\n",
      "Name: Cross Street, dtype: int64\n",
      " \n",
      "False    39607\n",
      "True         1\n",
      "Name: Location , dtype: int64\n",
      " \n"
     ]
    }
   ],
   "source": [
    "missing_data = crimes_database.isnull() \n",
    "#missing_data.head(6)\n",
    "for column in missing_data.columns.values.tolist():\n",
    "#   print(column)\n",
    "    print(missing_data[column].value_counts())\n",
    "    print(\" \")"
   ]
  },
  {
   "cell_type": "code",
   "execution_count": 83,
   "id": "84235749",
   "metadata": {},
   "outputs": [
    {
     "data": {
      "text/html": [
       "<div>\n",
       "<style scoped>\n",
       "    .dataframe tbody tr th:only-of-type {\n",
       "        vertical-align: middle;\n",
       "    }\n",
       "\n",
       "    .dataframe tbody tr th {\n",
       "        vertical-align: top;\n",
       "    }\n",
       "\n",
       "    .dataframe thead th {\n",
       "        text-align: right;\n",
       "    }\n",
       "</style>\n",
       "<table border=\"1\" class=\"dataframe\">\n",
       "  <thead>\n",
       "    <tr style=\"text-align: right;\">\n",
       "      <th></th>\n",
       "      <th>Unnamed: 0</th>\n",
       "      <th>DR Number</th>\n",
       "      <th>Time Occurred</th>\n",
       "      <th>Area ID</th>\n",
       "      <th>Reporting District</th>\n",
       "      <th>Crime Code</th>\n",
       "      <th>Victim Age</th>\n",
       "      <th>Premise Code</th>\n",
       "      <th>Weapon Used Code</th>\n",
       "      <th>Crime Code 1</th>\n",
       "      <th>Crime Code 2</th>\n",
       "      <th>Crime Code 3</th>\n",
       "      <th>Crime Code 4</th>\n",
       "    </tr>\n",
       "  </thead>\n",
       "  <tbody>\n",
       "    <tr>\n",
       "      <th>count</th>\n",
       "      <td>3.960800e+04</td>\n",
       "      <td>3.960800e+04</td>\n",
       "      <td>39608.000000</td>\n",
       "      <td>39608.000000</td>\n",
       "      <td>39608.000000</td>\n",
       "      <td>39608.000000</td>\n",
       "      <td>36388.000000</td>\n",
       "      <td>39605.000000</td>\n",
       "      <td>13078.000000</td>\n",
       "      <td>39608.000000</td>\n",
       "      <td>2483.000000</td>\n",
       "      <td>50.000000</td>\n",
       "      <td>2.000000</td>\n",
       "    </tr>\n",
       "    <tr>\n",
       "      <th>mean</th>\n",
       "      <td>7.933695e+05</td>\n",
       "      <td>1.359023e+08</td>\n",
       "      <td>1358.009114</td>\n",
       "      <td>11.119446</td>\n",
       "      <td>1158.132928</td>\n",
       "      <td>506.685771</td>\n",
       "      <td>36.063675</td>\n",
       "      <td>313.591945</td>\n",
       "      <td>371.320844</td>\n",
       "      <td>506.554257</td>\n",
       "      <td>954.226339</td>\n",
       "      <td>952.200000</td>\n",
       "      <td>929.000000</td>\n",
       "    </tr>\n",
       "    <tr>\n",
       "      <th>std</th>\n",
       "      <td>4.573828e+05</td>\n",
       "      <td>2.256153e+07</td>\n",
       "      <td>648.776989</td>\n",
       "      <td>5.981591</td>\n",
       "      <td>598.340182</td>\n",
       "      <td>210.256290</td>\n",
       "      <td>16.904164</td>\n",
       "      <td>210.826374</td>\n",
       "      <td>113.241516</td>\n",
       "      <td>210.196980</td>\n",
       "      <td>124.070655</td>\n",
       "      <td>117.620108</td>\n",
       "      <td>97.580736</td>\n",
       "    </tr>\n",
       "    <tr>\n",
       "      <th>min</th>\n",
       "      <td>5.000000e+00</td>\n",
       "      <td>6.100067e+07</td>\n",
       "      <td>1.000000</td>\n",
       "      <td>1.000000</td>\n",
       "      <td>101.000000</td>\n",
       "      <td>110.000000</td>\n",
       "      <td>10.000000</td>\n",
       "      <td>101.000000</td>\n",
       "      <td>101.000000</td>\n",
       "      <td>110.000000</td>\n",
       "      <td>230.000000</td>\n",
       "      <td>521.000000</td>\n",
       "      <td>860.000000</td>\n",
       "    </tr>\n",
       "    <tr>\n",
       "      <th>25%</th>\n",
       "      <td>3.962862e+05</td>\n",
       "      <td>1.201087e+08</td>\n",
       "      <td>920.000000</td>\n",
       "      <td>6.000000</td>\n",
       "      <td>644.000000</td>\n",
       "      <td>330.000000</td>\n",
       "      <td>23.000000</td>\n",
       "      <td>102.000000</td>\n",
       "      <td>400.000000</td>\n",
       "      <td>330.000000</td>\n",
       "      <td>998.000000</td>\n",
       "      <td>998.000000</td>\n",
       "      <td>894.500000</td>\n",
       "    </tr>\n",
       "    <tr>\n",
       "      <th>50%</th>\n",
       "      <td>7.954250e+05</td>\n",
       "      <td>1.401189e+08</td>\n",
       "      <td>1430.000000</td>\n",
       "      <td>12.000000</td>\n",
       "      <td>1203.000000</td>\n",
       "      <td>440.000000</td>\n",
       "      <td>34.000000</td>\n",
       "      <td>210.000000</td>\n",
       "      <td>400.000000</td>\n",
       "      <td>440.000000</td>\n",
       "      <td>998.000000</td>\n",
       "      <td>998.000000</td>\n",
       "      <td>929.000000</td>\n",
       "    </tr>\n",
       "    <tr>\n",
       "      <th>75%</th>\n",
       "      <td>1.190625e+06</td>\n",
       "      <td>1.521050e+08</td>\n",
       "      <td>1900.000000</td>\n",
       "      <td>16.000000</td>\n",
       "      <td>1672.000000</td>\n",
       "      <td>626.000000</td>\n",
       "      <td>48.000000</td>\n",
       "      <td>501.000000</td>\n",
       "      <td>400.000000</td>\n",
       "      <td>626.000000</td>\n",
       "      <td>998.000000</td>\n",
       "      <td>998.000000</td>\n",
       "      <td>963.500000</td>\n",
       "    </tr>\n",
       "    <tr>\n",
       "      <th>max</th>\n",
       "      <td>1.584191e+06</td>\n",
       "      <td>1.721163e+08</td>\n",
       "      <td>2359.000000</td>\n",
       "      <td>21.000000</td>\n",
       "      <td>2198.000000</td>\n",
       "      <td>956.000000</td>\n",
       "      <td>99.000000</td>\n",
       "      <td>971.000000</td>\n",
       "      <td>515.000000</td>\n",
       "      <td>956.000000</td>\n",
       "      <td>999.000000</td>\n",
       "      <td>999.000000</td>\n",
       "      <td>998.000000</td>\n",
       "    </tr>\n",
       "  </tbody>\n",
       "</table>\n",
       "</div>"
      ],
      "text/plain": [
       "         Unnamed: 0     DR Number  Time Occurred       Area ID  \\\n",
       "count  3.960800e+04  3.960800e+04   39608.000000  39608.000000   \n",
       "mean   7.933695e+05  1.359023e+08    1358.009114     11.119446   \n",
       "std    4.573828e+05  2.256153e+07     648.776989      5.981591   \n",
       "min    5.000000e+00  6.100067e+07       1.000000      1.000000   \n",
       "25%    3.962862e+05  1.201087e+08     920.000000      6.000000   \n",
       "50%    7.954250e+05  1.401189e+08    1430.000000     12.000000   \n",
       "75%    1.190625e+06  1.521050e+08    1900.000000     16.000000   \n",
       "max    1.584191e+06  1.721163e+08    2359.000000     21.000000   \n",
       "\n",
       "       Reporting District    Crime Code    Victim Age  Premise Code  \\\n",
       "count        39608.000000  39608.000000  36388.000000  39605.000000   \n",
       "mean          1158.132928    506.685771     36.063675    313.591945   \n",
       "std            598.340182    210.256290     16.904164    210.826374   \n",
       "min            101.000000    110.000000     10.000000    101.000000   \n",
       "25%            644.000000    330.000000     23.000000    102.000000   \n",
       "50%           1203.000000    440.000000     34.000000    210.000000   \n",
       "75%           1672.000000    626.000000     48.000000    501.000000   \n",
       "max           2198.000000    956.000000     99.000000    971.000000   \n",
       "\n",
       "       Weapon Used Code  Crime Code 1  Crime Code 2  Crime Code 3  \\\n",
       "count      13078.000000  39608.000000   2483.000000     50.000000   \n",
       "mean         371.320844    506.554257    954.226339    952.200000   \n",
       "std          113.241516    210.196980    124.070655    117.620108   \n",
       "min          101.000000    110.000000    230.000000    521.000000   \n",
       "25%          400.000000    330.000000    998.000000    998.000000   \n",
       "50%          400.000000    440.000000    998.000000    998.000000   \n",
       "75%          400.000000    626.000000    998.000000    998.000000   \n",
       "max          515.000000    956.000000    999.000000    999.000000   \n",
       "\n",
       "       Crime Code 4  \n",
       "count      2.000000  \n",
       "mean     929.000000  \n",
       "std       97.580736  \n",
       "min      860.000000  \n",
       "25%      894.500000  \n",
       "50%      929.000000  \n",
       "75%      963.500000  \n",
       "max      998.000000  "
      ]
     },
     "execution_count": 83,
     "metadata": {},
     "output_type": "execute_result"
    }
   ],
   "source": [
    "crimes_database.describe()"
   ]
  },
  {
   "cell_type": "markdown",
   "id": "1ded5786-cb3b-40d6-abc2-24bac60b9b30",
   "metadata": {},
   "source": [
    "Благодаря функции describe мы получили мат данные численных столбцов таблицы. Из важных и интересных данных мы можем посмотреть, что средний возраст жертв (mean Victum Age) составил 36 лет. Самой молодой и самой пожилой жертве было 10 и 99 лет соответсвенно. "
   ]
  },
  {
   "cell_type": "code",
   "execution_count": 84,
   "id": "4fb57833",
   "metadata": {},
   "outputs": [
    {
     "data": {
      "text/plain": [
       "H    13488\n",
       "W     9884\n",
       "B     6449\n",
       "O     3935\n",
       "X     1028\n",
       "A      907\n",
       "K      182\n",
       "F       46\n",
       "C       20\n",
       "I       16\n",
       "P        7\n",
       "J        5\n",
       "V        3\n",
       "U        3\n",
       "Z        1\n",
       "S        1\n",
       "G        1\n",
       "Name: Victim Descent, dtype: int64"
      ]
     },
     "execution_count": 84,
     "metadata": {},
     "output_type": "execute_result"
    }
   ],
   "source": [
    "crimes_database['Victim Descent'].value_counts()"
   ]
  },
  {
   "cell_type": "markdown",
   "id": "69236d06-fa17-4ec6-9342-b16be92f67cb",
   "metadata": {},
   "source": [
    "Ну Victim Descent означает происхождение жертвы. Если я провально понял данные с сайта FBI (https://crime-data-explorer.fr.cloud.gov/pages/explorer/crime/crime-trend), то H значит Hispanic, W значит White, B значит Black. Х тогда, когда жертва неопределена. "
   ]
  },
  {
   "cell_type": "code",
   "execution_count": 85,
   "id": "8f6999cf",
   "metadata": {},
   "outputs": [
    {
     "data": {
      "text/plain": [
       "M    18564\n",
       "F    16792\n",
       "X      619\n",
       "H        2\n",
       "Name: Victim Sex, dtype: int64"
      ]
     },
     "execution_count": 85,
     "metadata": {},
     "output_type": "execute_result"
    }
   ],
   "source": [
    "crimes_database['Victim Sex'].value_counts()"
   ]
  },
  {
   "cell_type": "markdown",
   "id": "e984add3-69f9-4888-9429-2039f3a5f1dd",
   "metadata": {},
   "source": [
    "Выше приведена статистика жертв по полу. Ответ на вопрос чаще ли женщины становятся жертвами: нет. В статистике присутсвует H в количестве 2 шт. Думаю это человеческий фактор при заполнении таблицы. х также для жертв, которых не удалось определить по тем или иным причинам."
   ]
  },
  {
   "cell_type": "code",
   "execution_count": 86,
   "id": "1f3313a7",
   "metadata": {},
   "outputs": [
    {
     "data": {
      "text/plain": [
       "<AxesSubplot:>"
      ]
     },
     "execution_count": 86,
     "metadata": {},
     "output_type": "execute_result"
    },
    {
     "data": {
      "image/png": "[encoded data removed]",
      "text/plain": [
       "<Figure size 432x288 with 1 Axes>"
      ]
     },
     "metadata": {
      "needs_background": "light"
     },
     "output_type": "display_data"
    }
   ],
   "source": [
    "crimes_database['Victim Age'].hist()"
   ]
  },
  {
   "cell_type": "markdown",
   "id": "601b3b6b-69b5-4400-ae53-44b7f936e965",
   "metadata": {},
   "source": [
    "Над этими словами расположен график распределения количества преступлений над людьми того или иного возраста. Чаще всего жертвами становятся молодые люди возрастом от 18 до примерно 28."
   ]
  },
  {
   "cell_type": "code",
   "execution_count": 87,
   "id": "df63395c",
   "metadata": {},
   "outputs": [
    {
     "data": {
      "text/plain": [
       "<AxesSubplot:ylabel='Density'>"
      ]
     },
     "execution_count": 87,
     "metadata": {},
     "output_type": "execute_result"
    },
    {
     "data": {
      "image/png": "[encoded data removed]",
      "text/plain": [
       "<Figure size 432x288 with 1 Axes>"
      ]
     },
     "metadata": {
      "needs_background": "light"
     },
     "output_type": "display_data"
    }
   ],
   "source": [
    "crimes_database['Victim Age'].plot.density()"
   ]
  },
  {
   "cell_type": "markdown",
   "id": "aa26dd21-440d-4d9f-bfd4-236171eb209f",
   "metadata": {},
   "source": [
    "Над этими словами такой же график преступлений от возраста и на нем видно, что среди людей которых мы ранее опредили примерно в возрасте 18-19 лет люди реже становятся жертвами "
   ]
  },
  {
   "cell_type": "code",
   "execution_count": 88,
   "id": "54db18a2",
   "metadata": {},
   "outputs": [
    {
     "data": {
      "text/plain": [
       "<AxesSubplot:>"
      ]
     },
     "execution_count": 88,
     "metadata": {},
     "output_type": "execute_result"
    },
    {
     "data": {
      "image/png": "[encoded data removed]",
      "text/plain": [
       "<Figure size 432x288 with 1 Axes>"
      ]
     },
     "metadata": {
      "needs_background": "light"
     },
     "output_type": "display_data"
    }
   ],
   "source": [
    "male = crimes_database[crimes_database['Victim Sex'] == \"M\"]\n",
    "male['Victim Age'].hist()"
   ]
  },
  {
   "cell_type": "markdown",
   "id": "132c15a1-4b86-4c82-9ba5-d17c3199f8a3",
   "metadata": {},
   "source": [
    "Над нами график распледеления количества жерт по возрасту среди мужчин. Мужчины в возрасте 28-36 примерно"
   ]
  },
  {
   "cell_type": "code",
   "execution_count": 89,
   "id": "54ae584a",
   "metadata": {},
   "outputs": [
    {
     "data": {
      "text/plain": [
       "<AxesSubplot:>"
      ]
     },
     "execution_count": 89,
     "metadata": {},
     "output_type": "execute_result"
    },
    {
     "data": {
      "image/png": "[encoded data removed]",
      "text/plain": [
       "<Figure size 432x288 with 1 Axes>"
      ]
     },
     "metadata": {
      "needs_background": "light"
     },
     "output_type": "display_data"
    }
   ],
   "source": [
    "female = crimes_database[crimes_database['Victim Sex'] == \"F\"]\n",
    "female['Victim Age'].hist()"
   ]
  },
  {
   "cell_type": "markdown",
   "id": "3e53231c-7b01-4ca9-a075-356a2ca1b626",
   "metadata": {},
   "source": [
    "А теперь среди женщин. Тут 18-28. И при этом чаще чем мужчины в возрасте  28-36."
   ]
  },
  {
   "cell_type": "markdown",
   "id": "3bf30531-605c-4967-a637-d6702df2560c",
   "metadata": {},
   "source": [
    "Вашему вниманию представляю ТОП-10 предступлений в LA"
   ]
  },
  {
   "cell_type": "code",
   "execution_count": 90,
   "id": "a39cb811",
   "metadata": {},
   "outputs": [
    {
     "data": {
      "text/plain": [
       "BATTERY - SIMPLE ASSAULT                                        3581\n",
       "VEHICLE - STOLEN                                                3048\n",
       "BURGLARY FROM VEHICLE                                           3038\n",
       "BURGLARY                                                        2938\n",
       "THEFT PLAIN - PETTY ($950 & UNDER)                              2866\n",
       "THEFT OF IDENTITY                                               2522\n",
       "INTIMATE PARTNER - SIMPLE ASSAULT                               2147\n",
       "VANDALISM - FELONY ($400 & OVER, ALL CHURCH VANDALISMS) 0114    2027\n",
       "VANDALISM - MISDEAMEANOR ($399 OR UNDER)                        1759\n",
       "ASSAULT WITH DEADLY WEAPON, AGGRAVATED ASSAULT                  1656\n",
       "Name: Crime Code Description, dtype: int64"
      ]
     },
     "execution_count": 90,
     "metadata": {},
     "output_type": "execute_result"
    }
   ],
   "source": [
    "crimes_database['Crime Code Description'].value_counts().head(10)"
   ]
  },
  {
   "cell_type": "code",
   "execution_count": 91,
   "id": "d51595a3-2cc3-4716-9eca-814d59267964",
   "metadata": {},
   "outputs": [
    {
     "data": {
      "image/png": "[encoded data removed]",
      "text/plain": [
       "<Figure size 432x288 with 1 Axes>"
      ]
     },
     "metadata": {
      "needs_background": "light"
     },
     "output_type": "display_data"
    }
   ],
   "source": [
    "crimes_database['Crime Code Description'].value_counts().head(10).plot(kind=\"bar\"); #вот графичек"
   ]
  },
  {
   "cell_type": "markdown",
   "id": "43418936-805e-4fd4-b6ca-1a85f5e2a204",
   "metadata": {},
   "source": [
    "ТОП-10 предступлений, жертвами которых становились мужчины"
   ]
  },
  {
   "cell_type": "code",
   "execution_count": 92,
   "id": "66df9975",
   "metadata": {},
   "outputs": [
    {
     "data": {
      "text/plain": [
       "BATTERY - SIMPLE ASSAULT                                        1731\n",
       "BURGLARY FROM VEHICLE                                           1665\n",
       "BURGLARY                                                        1632\n",
       "THEFT PLAIN - PETTY ($950 & UNDER)                              1499\n",
       "THEFT OF IDENTITY                                               1262\n",
       "ASSAULT WITH DEADLY WEAPON, AGGRAVATED ASSAULT                  1213\n",
       "VANDALISM - FELONY ($400 & OVER, ALL CHURCH VANDALISMS) 0114    1185\n",
       "ROBBERY                                                         1024\n",
       "VANDALISM - MISDEAMEANOR ($399 OR UNDER)                         938\n",
       "THEFT-GRAND ($950.01 & OVER)EXCPT,GUNS,FOWL,LIVESTK,PROD0036     791\n",
       "Name: Crime Code Description, dtype: int64"
      ]
     },
     "execution_count": 92,
     "metadata": {},
     "output_type": "execute_result"
    }
   ],
   "source": [
    "male['Crime Code Description'].value_counts().head(10)"
   ]
  },
  {
   "cell_type": "markdown",
   "id": "1ec747fa-283d-4811-818a-fd3a7b076197",
   "metadata": {},
   "source": [
    "ТОП-10 предступлений, жертвами которых становились женщины"
   ]
  },
  {
   "cell_type": "code",
   "execution_count": 93,
   "id": "cb8c2df3",
   "metadata": {},
   "outputs": [
    {
     "data": {
      "text/plain": [
       "BATTERY - SIMPLE ASSAULT                                        1838\n",
       "INTIMATE PARTNER - SIMPLE ASSAULT                               1764\n",
       "BURGLARY FROM VEHICLE                                           1361\n",
       "THEFT PLAIN - PETTY ($950 & UNDER)                              1294\n",
       "THEFT OF IDENTITY                                               1251\n",
       "BURGLARY                                                        1234\n",
       "VANDALISM - FELONY ($400 & OVER, ALL CHURCH VANDALISMS) 0114     792\n",
       "VANDALISM - MISDEAMEANOR ($399 OR UNDER)                         777\n",
       "CRIMINAL THREATS - NO WEAPON DISPLAYED                           589\n",
       "THEFT-GRAND ($950.01 & OVER)EXCPT,GUNS,FOWL,LIVESTK,PROD0036     579\n",
       "Name: Crime Code Description, dtype: int64"
      ]
     },
     "execution_count": 93,
     "metadata": {},
     "output_type": "execute_result"
    }
   ],
   "source": [
    "female['Crime Code Description'].value_counts().head(10)"
   ]
  },
  {
   "cell_type": "code",
   "execution_count": null,
   "id": "aa6fd515-956f-47ba-b935-5890e8e4ceff",
   "metadata": {},
   "outputs": [],
   "source": []
  },
  {
   "cell_type": "code",
   "execution_count": null,
   "id": "bdb1d10a-70b6-492c-8ed5-4d28bdbbb794",
   "metadata": {},
   "outputs": [],
   "source": []
  }
 ],
 "metadata": {
  "kernelspec": {
   "display_name": "Python 3 (ipykernel)",
   "language": "python",
   "name": "python3"
  },
  "language_info": {
   "codemirror_mode": {
    "name": "ipython",
    "version": 3
   },
   "file_extension": ".py",
   "mimetype": "text/x-python",
   "name": "python",
   "nbconvert_exporter": "python",
   "pygments_lexer": "ipython3",
   "version": "3.9.12"
  }
 },
 "nbformat": 4,
 "nbformat_minor": 5
}
